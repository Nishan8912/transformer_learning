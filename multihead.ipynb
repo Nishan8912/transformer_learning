{
 "cells": [
  {
   "cell_type": "code",
   "execution_count": 1,
   "id": "ee9c970a",
   "metadata": {},
   "outputs": [],
   "source": [
    "import torch\n",
    "import torch.nn as nn\n",
    "\n",
    "batch_size = 2\n",
    "seq_len = 5\n",
    "d_model = 512\n",
    "num_heads = 8\n",
    "d_k = d_model // num_heads\n",
    "\n",
    "\n",
    "# Example innput \n",
    "X = torch.rand(batch_size, seq_len, d_model)"
   ]
  },
  {
   "cell_type": "code",
   "execution_count": 10,
   "id": "2c8ef507",
   "metadata": {},
   "outputs": [
    {
     "name": "stdout",
     "output_type": "stream",
     "text": [
      "torch.Size([512])\n",
      "torch.Size([512])\n"
     ]
    }
   ],
   "source": [
    "# testing the linear layer with different shape\n",
    "Y= torch.rand(512,)\n",
    "print(Y.shape)\n",
    "W_Y_test = nn.Linear(d_model, d_model)\n",
    "Y_test = W_Y_test(Y)\n",
    "print(Y_test.shape)"
   ]
  },
  {
   "cell_type": "code",
   "execution_count": 11,
   "id": "4a6afb22",
   "metadata": {},
   "outputs": [
    {
     "name": "stdout",
     "output_type": "stream",
     "text": [
      "torch.Size([2, 5, 512]) torch.Size([2, 5, 512]) torch.Size([2, 5, 512])\n"
     ]
    }
   ],
   "source": [
    "# Creating the learned linear Q, K, V matrices\n",
    "\n",
    "W_Q = nn.Linear(d_model, d_model)\n",
    "W_K = nn.Linear(d_model, d_model)\n",
    "W_V = nn.Linear(d_model, d_model)\n",
    "\n",
    "# Final output projection\n",
    "W_O = nn.Linear(d_model, d_model)\n",
    "\n",
    "# Project input \n",
    "Q = W_Q(X) # (batch_size, seq_len, d_model)\n",
    "K = W_K(X) # (batch_size, seq_len, d_model)\n",
    "V = W_V(X) # (batch_size, seq_len, d_model)\n",
    "\n",
    "(print(Q.shape, K.shape, V.shape))"
   ]
  },
  {
   "cell_type": "code",
   "execution_count": 12,
   "id": "9671bbbd",
   "metadata": {},
   "outputs": [],
   "source": [
    "# Split into heads \n",
    "Q = Q.view(batch_size, seq_len, num_heads, d_k).transpose(1, 2) # (batch_size, num_heads, seq_len, d_k)\n",
    "K = K.view(batch_size, seq_len, num_heads, d_k).transpose(1, 2) # (batch_size, num_heads, seq_len, d_k)\n",
    "V = V.view(batch_size, seq_len, num_heads, d_k).transpose(1, 2) # (batch_size, num_heads, seq_len, d_k)"
   ]
  },
  {
   "cell_type": "code",
   "execution_count": 13,
   "id": "d5353edc",
   "metadata": {},
   "outputs": [
    {
     "name": "stdout",
     "output_type": "stream",
     "text": [
      "torch.Size([2, 8, 5, 5])\n"
     ]
    }
   ],
   "source": [
    "scores = torch.matmul(Q, K.transpose(-2, -1)) / (d_k ** 0.5)  # (batch_size, seq_len, seq_len)\n",
    "print(scores.shape)"
   ]
  },
  {
   "cell_type": "code",
   "execution_count": 55,
   "id": "66bcefc6",
   "metadata": {},
   "outputs": [
    {
     "name": "stdout",
     "output_type": "stream",
     "text": [
      "torch.Size([2, 8, 5, 5])\n"
     ]
    },
    {
     "data": {
      "text/plain": [
       "torch.Size([2, 8, 5, 64])"
      ]
     },
     "execution_count": 55,
     "metadata": {},
     "output_type": "execute_result"
    }
   ],
   "source": [
    "weights = torch.softmax(scores, dim = -1)\n",
    "print(weights.shape)\n",
    "heads = torch.matmul(weights, V)  \n",
    "heads.shape"
   ]
  },
  {
   "cell_type": "code",
   "execution_count": null,
   "id": "e8e40cb4",
   "metadata": {},
   "outputs": [
    {
     "data": {
      "text/plain": [
       "torch.Size([2, 5, 512])"
      ]
     },
     "execution_count": 57,
     "metadata": {},
     "output_type": "execute_result"
    }
   ],
   "source": [
    "# Concatenate heads\n",
    "heads = heads.transpose(1, 2).contiguous().view(batch_size, seq_len, d_model)  # (batch_size, seq_len, d_model)\n",
    "heads.shape   "
   ]
  },
  {
   "cell_type": "code",
   "execution_count": 58,
   "id": "fa008fd8",
   "metadata": {},
   "outputs": [
    {
     "name": "stdout",
     "output_type": "stream",
     "text": [
      "Original heads:\n",
      "tensor([[[[ 0,  1,  2,  3],\n",
      "          [ 4,  5,  6,  7],\n",
      "          [ 8,  9, 10, 11]],\n",
      "\n",
      "         [[12, 13, 14, 15],\n",
      "          [16, 17, 18, 19],\n",
      "          [20, 21, 22, 23]]]])\n"
     ]
    }
   ],
   "source": [
    "import torch\n",
    "import matplotlib.pyplot as plt\n",
    "\n",
    "# Make a fake \"heads\" tensor with easy to track values\n",
    "B, H, L, d_k = 1, 2, 3, 4  # tiny so you can see it!\n",
    "\n",
    "heads = torch.arange(B * H * L * d_k).reshape(B, H, L, d_k)\n",
    "\n",
    "print(\"Original heads:\")\n",
    "print(heads)\n"
   ]
  },
  {
   "cell_type": "code",
   "execution_count": 59,
   "id": "e3368e1a",
   "metadata": {},
   "outputs": [
    {
     "name": "stdout",
     "output_type": "stream",
     "text": [
      "\n",
      "After transpose:\n",
      "tensor([[[[ 0,  1,  2,  3],\n",
      "          [12, 13, 14, 15]],\n",
      "\n",
      "         [[ 4,  5,  6,  7],\n",
      "          [16, 17, 18, 19]],\n",
      "\n",
      "         [[ 8,  9, 10, 11],\n",
      "          [20, 21, 22, 23]]]])\n"
     ]
    }
   ],
   "source": [
    "# Correct: transpose before merging\n",
    "heads_T = heads.transpose(1, 2)  # swap heads and seq_len\n",
    "\n",
    "print(\"\\nAfter transpose:\")\n",
    "print(heads_T)\n"
   ]
  },
  {
   "cell_type": "code",
   "execution_count": 60,
   "id": "ec13cbbd",
   "metadata": {},
   "outputs": [
    {
     "name": "stdout",
     "output_type": "stream",
     "text": [
      "\n",
      "Correct flatten:\n",
      "tensor([[[ 0,  1,  2,  3, 12, 13, 14, 15],\n",
      "         [ 4,  5,  6,  7, 16, 17, 18, 19],\n",
      "         [ 8,  9, 10, 11, 20, 21, 22, 23]]])\n",
      "\n",
      "Wrong flatten:\n",
      "tensor([[[ 0,  1,  2,  3,  4,  5,  6,  7],\n",
      "         [ 8,  9, 10, 11, 12, 13, 14, 15],\n",
      "         [16, 17, 18, 19, 20, 21, 22, 23]]])\n"
     ]
    }
   ],
   "source": [
    "# Correct flatten: after transpose\n",
    "correct_flat = heads_T.contiguous().view(B, L, H * d_k)\n",
    "\n",
    "# Incorrect flatten: skip transpose\n",
    "wrong_flat = heads.contiguous().view(B, L, H * d_k)\n",
    "\n",
    "print(\"\\nCorrect flatten:\")\n",
    "print(correct_flat)\n",
    "\n",
    "print(\"\\nWrong flatten:\")\n",
    "print(wrong_flat)\n"
   ]
  },
  {
   "cell_type": "code",
   "execution_count": 61,
   "id": "4619fbb5",
   "metadata": {},
   "outputs": [
    {
     "data": {
      "image/png": "[encoded data removed]",
      "text/plain": [
       "<Figure size 1200x400 with 3 Axes>"
      ]
     },
     "metadata": {},
     "output_type": "display_data"
    }
   ],
   "source": [
    "fig, axes = plt.subplots(1, 3, figsize=(12, 4))\n",
    "\n",
    "axes[0].imshow(heads[0].reshape(H * L, d_k), cmap=\"viridis\")\n",
    "axes[0].set_title(\"Original [H, L, d_k]\")\n",
    "\n",
    "axes[1].imshow(correct_flat[0], cmap=\"viridis\")\n",
    "axes[1].set_title(\"Flattened w/ Transpose\")\n",
    "\n",
    "axes[2].imshow(wrong_flat[0], cmap=\"viridis\")\n",
    "axes[2].set_title(\"Flattened w/o Transpose\")\n",
    "\n",
    "plt.show()\n"
   ]
  },
  {
   "cell_type": "code",
   "execution_count": 16,
   "id": "3c99f542",
   "metadata": {},
   "outputs": [
    {
     "name": "stdout",
     "output_type": "stream",
     "text": [
      "torch.Size([3])\n",
      "torch.Size([3, 1])\n"
     ]
    }
   ],
   "source": [
    "s1 = torch.tensor([1, 2, 3])\n",
    "print(s1.shape)\n",
    "sm = s1.unsqueeze(1)  # Add batch dimension\n",
    "print(sm.shape)"
   ]
  },
  {
   "cell_type": "code",
   "execution_count": null,
   "id": "b8c270ba",
   "metadata": {},
   "outputs": [],
   "source": []
  }
 ],
 "metadata": {
  "kernelspec": {
   "display_name": "Python (torch_cuda)",
   "language": "python",
   "name": "torch_cuda"
  },
  "language_info": {
   "codemirror_mode": {
    "name": "ipython",
    "version": 3
   },
   "file_extension": ".py",
   "mimetype": "text/x-python",
   "name": "python",
   "nbconvert_exporter": "python",
   "pygments_lexer": "ipython3",
   "version": "3.11.13"
  }
 },
 "nbformat": 4,
 "nbformat_minor": 5
}
